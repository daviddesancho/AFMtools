{
 "cells": [
  {
   "cell_type": "markdown",
   "metadata": {},
   "source": [
    "# Fits to worm-like chain model\n",
    "Force-extension curves obtained from AFM experiments are often fitted to this simple polymer model, which is approximated as follows\n",
    "$F(x)=k_BT/p\\big(\\frac{1}{4(1-x/L)^2}+\\frac{1}{4}-\\frac{x}{L}\\big)$\n",
    "In this expression we find that the force at polymer extension $x$ can be expressed in terms of the persistence length $p$ and the contour length $L$. "
   ]
  },
  {
   "cell_type": "code",
   "execution_count": null,
   "metadata": {
    "collapsed": true
   },
   "outputs": [],
   "source": []
  }
 ],
 "metadata": {
  "kernelspec": {
   "display_name": "Python 2",
   "language": "python",
   "name": "python2"
  },
  "language_info": {
   "codemirror_mode": {
    "name": "ipython",
    "version": 2
   },
   "file_extension": ".py",
   "mimetype": "text/x-python",
   "name": "python",
   "nbconvert_exporter": "python",
   "pygments_lexer": "ipython2",
   "version": "2.7.10"
  }
 },
 "nbformat": 4,
 "nbformat_minor": 0
}
